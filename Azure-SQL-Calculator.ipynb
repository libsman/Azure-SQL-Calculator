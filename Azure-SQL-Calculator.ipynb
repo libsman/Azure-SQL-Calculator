{
 "cells": [
  {
   "cell_type": "code",
   "execution_count": null,
   "metadata": {},
   "outputs": [],
   "source": [
    "%matplotlib notebook\n",
    "import matplotlib.pyplot as plt\n",
    "import numpy as np\n",
    "import ipywidgets as widgets\n",
    "from ipywidgets import interact\n",
    "\n",
    "# Define the function\n",
    "def compute_cost(x, y, z=0):\n",
    "    return (0.5364 * x * y + 0.5364 * 1 * 1 + 0.5364 * z * (y - 1))*30\n",
    "\n",
    "# Visualization function\n",
    "def plot_cost(x, y):\n",
    "    hours = np.linspace(1, 24, 24)  # Hours from 1 to 24\n",
    "    vCores = [0.5, 1, 1.5, 2]  # Discrete vCore options\n",
    "    \n",
    "    costs = [compute_cost(vc, y) for vc in vCores]\n",
    "    \n",
    "    plt.figure(figsize=(10, 6))\n",
    "    plt.plot(vCores, costs, marker='o', label=f'Cost for y = {y} hours')\n",
    "    \n",
    "    # Annotate the selected point\n",
    "    selected_cost = compute_cost(x, y)\n",
    "    plt.scatter([x], [selected_cost], color='red', zorder=5)\n",
    "    plt.text(x, selected_cost, f\"Cost = {selected_cost:.2f}\", fontsize=10, color='red')\n",
    "    \n",
    "    plt.title(\"Cost vs. vCores\")\n",
    "    plt.xlabel(\"vCores\")\n",
    "    plt.ylabel(\"Cost\")\n",
    "    plt.xticks(vCores)\n",
    "    plt.grid(alpha=0.3)\n",
    "    plt.legend()\n",
    "    plt.show()\n",
    "\n",
    "# Interactivity using sliders\n",
    "interact(plot_cost,\n",
    "         x=widgets.FloatSlider(value=2, min=0.5, max=2, step=0.5, description=\"vCores\"),\n",
    "         y=widgets.IntSlider(value=12, min=1, max=24, step=1, description=\"Hours\"));\n"
   ]
  }
 ],
 "metadata": {
  "language_info": {
   "name": "python"
  }
 },
 "nbformat": 4,
 "nbformat_minor": 2
}
