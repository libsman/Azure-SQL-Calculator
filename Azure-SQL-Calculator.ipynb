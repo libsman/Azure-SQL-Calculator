{
 "cells": [
  {
   "cell_type": "code",
   "execution_count": 4,
   "metadata": {},
   "outputs": [
    {
     "data": {
      "application/vnd.jupyter.widget-view+json": {
       "model_id": "dd4c3d12f2874614a2430da878eb47a0",
       "version_major": 2,
       "version_minor": 0
      },
      "text/plain": [
       "interactive(children=(FloatSlider(value=2.0, description='vCores', max=2.0, min=0.5, step=0.5), IntSlider(valu…"
      ]
     },
     "metadata": {},
     "output_type": "display_data"
    }
   ],
   "source": [
    "import matplotlib.pyplot as plt\n",
    "import numpy as np\n",
    "import ipywidgets as widgets\n",
    "from ipywidgets import interactive\n",
    "\n",
    "# Define the function\n",
    "def compute_cost(vCore_Value, active_hours, auto_pause_off):\n",
    "    return (0.5364 * vCore_Value * active_hours + 0.5364 * 1 * 1 + 0.5364 * auto_pause_off * (active_hours - 1))*30\n",
    "\n",
    "# Visualization function\n",
    "def plot_cost(vCore_Value, active_hours, auto_pause_off):\n",
    "    hours = np.linspace(1, 24, 24)  # Hours from 1 to 24\n",
    "    vCores = [0.5, 1, 1.5, 2]  # Discrete vCore options\n",
    "    \n",
    "    costs = [compute_cost(vc, active_hours, auto_pause_off) for vc in vCores]\n",
    "    \n",
    "    plt.figure(figsize=(10, 6))\n",
    "    plt.plot(vCores, costs, marker='o', label=f'Cost for active_hours = {active_hours} hours')\n",
    "    \n",
    "    # Annotate the selected point\n",
    "    selected_cost = compute_cost(vCore_Value, active_hours, auto_pause_off)\n",
    "    plt.scatter([vCore_Value], [selected_cost], color='red', zorder=5)\n",
    "    plt.text(vCore_Value, selected_cost, f\"Cost = {selected_cost:.2f}\", fontsize=10, color='red')\n",
    "    \n",
    "    plt.title(\"Cost vs. vCores\")\n",
    "    plt.xlabel(\"vCores\")\n",
    "    plt.ylabel(\"Cost\")\n",
    "    plt.xticks(vCores)\n",
    "    plt.grid(alpha=0.3)\n",
    "    plt.legend()\n",
    "    plt.show()\n",
    "\n",
    "# Function to update button label\n",
    "def update_button_label(change):\n",
    "    if change['new']:\n",
    "        auto_pause_toggle.description = 'Auto-Pause Off'\n",
    "    else:\n",
    "        auto_pause_toggle.description = 'Auto-Pause On'\n",
    "\n",
    "# Create widgets\n",
    "vCore_slider = widgets.FloatSlider(value=2, min=0.5, max=2, step=0.5, description=\"vCores\")\n",
    "hours_slider = widgets.IntSlider(value=12, min=1, max=24, step=1, description=\"Hours\")\n",
    "auto_pause_toggle = widgets.ToggleButton(value=False, description='Auto-Pause On')\n",
    "\n",
    "# Observe changes to update button label\n",
    "auto_pause_toggle.observe(update_button_label, names='value')\n",
    "\n",
    "# Create interactive output\n",
    "interactive_plot = interactive(plot_cost, \n",
    "                               vCore_Value=vCore_slider, \n",
    "                               active_hours=hours_slider, \n",
    "                               auto_pause_off=auto_pause_toggle)\n",
    "\n",
    "# Display the interactive elements\n",
    "display(widgets.VBox([vCore_slider, hours_slider, auto_pause_toggle, interactive_plot.children[-1]]))\n",
    "\n"
   ]
  }
 ],
 "metadata": {
  "kernelspec": {
   "display_name": "Python 3",
   "language": "python",
   "name": "python3"
  },
  "language_info": {
   "codemirror_mode": {
    "name": "ipython",
    "version": 3
   },
   "file_extension": ".py",
   "mimetype": "text/x-python",
   "name": "python",
   "nbconvert_exporter": "python",
   "pygments_lexer": "ipython3",
   "version": "3.11.9"
  }
 },
 "nbformat": 4,
 "nbformat_minor": 2
}
